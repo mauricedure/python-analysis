{
 "cells": [
  {
   "cell_type": "code",
   "execution_count": 70,
   "metadata": {},
   "outputs": [],
   "source": [
    "# PyRamen Data Analysis"
   ]
  },
  {
   "cell_type": "code",
   "execution_count": 103,
   "metadata": {},
   "outputs": [],
   "source": [
    "# import libraries\n",
    "from pathlib import Path\n",
    "import csv\n",
    "\n",
    "\n",
    "\n",
    "csvpath = Path('../Resources/sales_data.csv')\n",
    "csvpath\n",
    "csvpath = Path('../Resources/menu_data.csv')\n",
    "csvpath\n",
    "\n",
    "# read the csv file for menu_data.csv and sales_data.csv\n",
    "\n",
    "with open('menu_data.csv', 'r') as csv_file:\n",
    "    csvpath = csv.reader(csv_file)\n",
    "    \n",
    "    header = next(csvpath)\n",
    "    \n",
    "    first_row = next(csvpath) \n",
    "    \n",
    "with open('sales_data.csv', 'r') as csv_file:\n",
    "        csvpath = csv.reader(csv_file)\n",
    "     \n",
    "        header = next(csvpath)\n",
    "        \n",
    "        first_row = next(csvpath)\n",
    "\n",
    "Quantity = Quantity + 1\n",
    "Menu_Item = Menu_Item \n",
    "menu = []\n",
    "sales = []\n",
    "\n",
    "\n",
    "Quantity = 0\n",
    "Menu_Item = []\n",
    "sales_item = [\"\"]\n",
    "item = [\"\"]\n",
    "Price = 0\n",
    "report = {}\n",
    "\n",
    "    "
   ]
  },
  {
   "cell_type": "code",
   "execution_count": 83,
   "metadata": {},
   "outputs": [],
   "source": [
    "\n",
    "# Initialize dict object to hold our key-value pairs of items and metrics\n",
    "report = {\"01-count\": 0, \"02-revenue\": 0, \"03-cogs\": 0, \"04-profit\": 0,}\n",
    "\n",
    "# Intialize a row counter \n",
    "row_count = 0"
   ]
  },
  {
   "cell_type": "code",
   "execution_count": 114,
   "metadata": {},
   "outputs": [],
   "source": [
    "Item = 0\n",
    "Price = int(row[0])\n",
    "Cost = 0\n"
   ]
  },
  {
   "cell_type": "code",
   "execution_count": null,
   "metadata": {},
   "outputs": [],
   "source": []
  },
  {
   "cell_type": "code",
   "execution_count": null,
   "metadata": {},
   "outputs": [],
   "source": []
  },
  {
   "cell_type": "code",
   "execution_count": null,
   "metadata": {},
   "outputs": [],
   "source": []
  },
  {
   "cell_type": "code",
   "execution_count": null,
   "metadata": {},
   "outputs": [],
   "source": []
  },
  {
   "cell_type": "code",
   "execution_count": null,
   "metadata": {},
   "outputs": [],
   "source": []
  },
  {
   "cell_type": "code",
   "execution_count": null,
   "metadata": {},
   "outputs": [],
   "source": []
  },
  {
   "cell_type": "code",
   "execution_count": null,
   "metadata": {},
   "outputs": [],
   "source": []
  },
  {
   "cell_type": "code",
   "execution_count": null,
   "metadata": {},
   "outputs": [],
   "source": []
  },
  {
   "cell_type": "code",
   "execution_count": null,
   "metadata": {},
   "outputs": [],
   "source": []
  },
  {
   "cell_type": "code",
   "execution_count": null,
   "metadata": {},
   "outputs": [],
   "source": []
  },
  {
   "cell_type": "code",
   "execution_count": null,
   "metadata": {},
   "outputs": [],
   "source": []
  }
 ],
 "metadata": {
  "kernelspec": {
   "display_name": "Python 3",
   "language": "python",
   "name": "python3"
  },
  "language_info": {
   "codemirror_mode": {
    "name": "ipython",
    "version": 3
   },
   "file_extension": ".py",
   "mimetype": "text/x-python",
   "name": "python",
   "nbconvert_exporter": "python",
   "pygments_lexer": "ipython3",
   "version": "3.8.3"
  }
 },
 "nbformat": 4,
 "nbformat_minor": 4
}
