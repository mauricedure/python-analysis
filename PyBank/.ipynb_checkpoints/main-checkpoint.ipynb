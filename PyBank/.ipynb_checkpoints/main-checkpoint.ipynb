{
 "cells": [
  {
   "cell_type": "code",
   "execution_count": 266,
   "metadata": {},
   "outputs": [],
   "source": [
    "# Creating Python code to analyze Bank Data \n",
    "## Import csv \n",
    "import csv \n",
    "from pathlib import Path\n",
    "\n",
    "file_output = Path(\"file_output.txt\")\n",
    "\n",
    "total_months = 0\n",
    "month_of_change = []\n",
    "net_change_list = []\n",
    "total_net = 0\n",
    "greatest_increase = [\"\", 0]\n",
    "greatest_decrease = [\"\", 9999999999]\n",
    "\n"
   ]
  },
  {
   "cell_type": "code",
   "execution_count": 267,
   "metadata": {},
   "outputs": [],
   "source": [
    "# Csv file name\n",
    "with open('budget_data.csv', 'r') as csv_file:\n",
    "    csv_reader_object = csv.reader(csv_file)\n",
    "    \n",
    "    header = next(csv_reader_object)\n",
    "    \n",
    "    \n",
    "    \n",
    "    first_row = next(csv_reader_object)\n",
    "    total_months = total_months + 1\n",
    "    total_net = total_net +int(first_row[1])\n",
    "    prev_net = int(first_row[1])\n",
    "    \n",
    "    for row in csv_reader_object:\n",
    "        \n",
    "        total_months = total_months + 1\n",
    "        toal_net = total_net + int(row[1])\n",
    "        \n",
    "        \n",
    "        \n",
    "        net_change = int(row[1]) - prev_net\n",
    "        prev_net = int(row[1])\n",
    "        net_change_list = net_change_list + [net_change]\n",
    "        month_of_change = month_of_change + [row[0]]\n",
    "        \n",
    "        if net_change > greatest_increase[1]:\n",
    "            greatest_increase[0] = row[0]\n",
    "            greatest_increase[1] = net_change\n",
    "            \n",
    "        if net_change < greatest_decrease[1]:\n",
    "            greatest_decrease[0] = row[0]\n",
    "            greatest_decrease[1] = net_change\n",
    "\n",
    "net_change_avg = round(sum(net_change_list) / len(net_change_list),2)\n",
    "\n",
    "#print(total_months, total_net, net_change_avg)"
   ]
  },
  {
   "cell_type": "code",
   "execution_count": 268,
   "metadata": {},
   "outputs": [],
   "source": [
    "with open(file_output, \"w\") as txt_file:\n",
    "    txt_file.write(f\"Financial Analysis\\n\")\n",
    "    txt_file.write(f\"-----------------------------------\\n\")\n",
    "    txt_file.write(f\"The total number of months used in the Stock Data Analysis was {total_months}.\\n\")\n",
    "    txt_file.write(f\"The net total for Profits/Losses for the Stock Data is {total_net}.\\n\")\n",
    "    txt_file.write(f\"The average change for the Stock Data over the {total_months} month period was {net_change_avg}.\\n\")\n",
    "    txt_file.write(f\"The greatest decrease in the Stock Data is {greatest_decrease}.\\n\")\n",
    "    txt_file.write(f\"The greatest increase in the Stock Data is {greatest_increase}.\\n\")\n"
   ]
  },
  {
   "cell_type": "code",
   "execution_count": null,
   "metadata": {},
   "outputs": [],
   "source": []
  },
  {
   "cell_type": "code",
   "execution_count": null,
   "metadata": {},
   "outputs": [],
   "source": []
  },
  {
   "cell_type": "code",
   "execution_count": null,
   "metadata": {},
   "outputs": [],
   "source": []
  },
  {
   "cell_type": "code",
   "execution_count": null,
   "metadata": {},
   "outputs": [],
   "source": []
  },
  {
   "cell_type": "code",
   "execution_count": 21,
   "metadata": {},
   "outputs": [],
   "source": []
  },
  {
   "cell_type": "code",
   "execution_count": null,
   "metadata": {},
   "outputs": [],
   "source": []
  }
 ],
 "metadata": {
  "kernelspec": {
   "display_name": "Python 3",
   "language": "python",
   "name": "python3"
  },
  "language_info": {
   "codemirror_mode": {
    "name": "ipython",
    "version": 3
   },
   "file_extension": ".py",
   "mimetype": "text/x-python",
   "name": "python",
   "nbconvert_exporter": "python",
   "pygments_lexer": "ipython3",
   "version": "3.8.3"
  }
 },
 "nbformat": 4,
 "nbformat_minor": 4
}
